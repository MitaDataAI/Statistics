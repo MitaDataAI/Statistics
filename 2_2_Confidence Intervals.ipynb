{
 "cells": [
  {
   "cell_type": "markdown",
   "id": "a835ac55-b709-4ad1-a31e-ac0631a66a49",
   "metadata": {},
   "source": [
    "# Package"
   ]
  },
  {
   "cell_type": "code",
   "execution_count": 17,
   "id": "ddc37e37-9896-40b5-a407-29fcd18c89ec",
   "metadata": {},
   "outputs": [],
   "source": [
    "import numpy as np\n",
    "from scipy.stats import norm\n",
    "from scipy.stats import t"
   ]
  },
  {
   "cell_type": "markdown",
   "id": "b5620c21-6c52-4131-9d05-f1855619b9ea",
   "metadata": {},
   "source": [
    "# Point estimate for the mean"
   ]
  },
  {
   "cell_type": "code",
   "execution_count": 2,
   "id": "0ef95464-4d99-4521-9d7e-2699f7bcd36f",
   "metadata": {},
   "outputs": [],
   "source": [
    "S=np.array([16.621, 17.416, 19.147, 9.745, 13.082, 16.125, 15.078, 4.676, 16.923,\n",
    "21.853, 12.971, 10.198, 24.208, 18.028, 11.363, 10.702, 22.305, 13.151, 20.258,\n",
    "13.949])"
   ]
  },
  {
   "cell_type": "code",
   "execution_count": 3,
   "id": "594b609b-c781-4185-b49e-11a3b8bf59e7",
   "metadata": {},
   "outputs": [
    {
     "name": "stdout",
     "output_type": "stream",
     "text": [
      "Point estimate for the mean is : 15.389949999999999\n"
     ]
    }
   ],
   "source": [
    "S_mean = np.mean(S)\n",
    "print(\"Point estimate for the mean is :\", S_mean)"
   ]
  },
  {
   "cell_type": "markdown",
   "id": "572be920-172c-4529-9091-142694d80e21",
   "metadata": {},
   "source": [
    "# Confidence Intervals on 99% confidence level"
   ]
  },
  {
   "cell_type": "code",
   "execution_count": 4,
   "id": "1a85ea7c-8d8a-46e9-a473-69496ab6b6e5",
   "metadata": {},
   "outputs": [],
   "source": [
    "# Confidence level for intervals and risks alpha\n",
    "confidence_level_99 = 0.99\n",
    "alpha = 1 - confidence_level_99"
   ]
  },
  {
   "cell_type": "code",
   "execution_count": 5,
   "id": "486eeafc-660e-4300-a97b-c7666b32fde0",
   "metadata": {},
   "outputs": [],
   "source": [
    "z_score_99 = norm.ppf(1-(alpha/2))"
   ]
  },
  {
   "cell_type": "code",
   "execution_count": 6,
   "id": "2fe4b7bc-cf8e-4c4f-ad38-9c9bb401fc54",
   "metadata": {},
   "outputs": [
    {
     "data": {
      "text/plain": [
       "np.float64(2.5758293035489004)"
      ]
     },
     "execution_count": 6,
     "metadata": {},
     "output_type": "execute_result"
    }
   ],
   "source": [
    "z_score_99"
   ]
  },
  {
   "cell_type": "code",
   "execution_count": 7,
   "id": "eb5a4e20-107f-4fa2-8c4c-a960cc2af641",
   "metadata": {},
   "outputs": [],
   "source": [
    "# Calculate the standard error of the mean non biased (n-1) \n",
    "std_error = np.std(S, ddof=1) / np.sqrt(len(S))"
   ]
  },
  {
   "cell_type": "code",
   "execution_count": 8,
   "id": "cd32505f-3c76-44ff-9083-a3ba42821251",
   "metadata": {},
   "outputs": [],
   "source": [
    "# Calculate the margin of error for confidence interval\n",
    "margin_of_error_99 = z_score_99 * std_error"
   ]
  },
  {
   "cell_type": "code",
   "execution_count": 9,
   "id": "9949f154-8702-407b-b220-c90e3d804890",
   "metadata": {},
   "outputs": [],
   "source": [
    "# Calculate the confidence intervals\n",
    "conf_interval_99 = (S_mean - margin_of_error_99, S_mean + margin_of_error_99)"
   ]
  },
  {
   "cell_type": "code",
   "execution_count": 10,
   "id": "cc1090a6-b9ff-4b9a-82e4-0a43d2148757",
   "metadata": {},
   "outputs": [
    {
     "data": {
      "text/plain": [
       "(np.float64(12.584409025068949), np.float64(18.195490974931047))"
      ]
     },
     "execution_count": 10,
     "metadata": {},
     "output_type": "execute_result"
    }
   ],
   "source": [
    "conf_interval_99"
   ]
  },
  {
   "cell_type": "code",
   "execution_count": 11,
   "id": "3a681bbe-71a7-4f9d-803b-92e08f515c08",
   "metadata": {},
   "outputs": [
    {
     "name": "stdout",
     "output_type": "stream",
     "text": [
      "Point estimate for the mean: 15.389949999999999\n",
      "99% Confidence Interval for the mean: (np.float64(12.584409025068949), np.float64(18.195490974931047))\n"
     ]
    }
   ],
   "source": [
    "print(f\"Point estimate for the mean: {S_mean}\")\n",
    "print(f\"99% Confidence Interval for the mean: {conf_interval_99}\")"
   ]
  },
  {
   "cell_type": "markdown",
   "id": "ceb209f8-49c0-42c6-b4cc-aed2ed755a21",
   "metadata": {},
   "source": [
    "# Confidence Intervals on 95% confidence level (same process)"
   ]
  },
  {
   "cell_type": "code",
   "execution_count": 16,
   "id": "ee548e08-8a7b-476d-8680-5d24b3444ce7",
   "metadata": {},
   "outputs": [
    {
     "name": "stdout",
     "output_type": "stream",
     "text": [
      "0.05\n"
     ]
    }
   ],
   "source": [
    "confidence_level_95 = 0.95\n",
    "alpha = round((1 - confidence_level_95), 2)\n",
    "print(alpha)"
   ]
  },
  {
   "cell_type": "code",
   "execution_count": 21,
   "id": "d8c6bc84-f764-4569-b817-d83f90944540",
   "metadata": {},
   "outputs": [
    {
     "name": "stdout",
     "output_type": "stream",
     "text": [
      "2.093024054408263\n"
     ]
    }
   ],
   "source": [
    "t_score_95 = t.ppf(1-(alpha/2), df = len(S) - 1)\n",
    "print(t_score_95)"
   ]
  },
  {
   "cell_type": "code",
   "execution_count": 23,
   "id": "b5e814ef-5a60-43a1-a054-368bbbee79bb",
   "metadata": {},
   "outputs": [],
   "source": [
    "# Calculate the standard error of the mean non biased (n-1)\n",
    "std_error = np.std(S, ddof=1) / np.sqrt(len(S))"
   ]
  },
  {
   "cell_type": "code",
   "execution_count": 22,
   "id": "92714062-d6cc-46b9-bf3a-f66a337f4b5a",
   "metadata": {},
   "outputs": [],
   "source": [
    "margin_of_error_95 = t_score_95 * std_error"
   ]
  },
  {
   "cell_type": "code",
   "execution_count": 24,
   "id": "3a9240f0-c376-408a-b2ff-3fccf9d93e55",
   "metadata": {},
   "outputs": [],
   "source": [
    "conf_interval_95 = (S_mean - margin_of_error_95, S_mean + margin_of_error_95)"
   ]
  },
  {
   "cell_type": "code",
   "execution_count": 25,
   "id": "4d38e8df-7653-4d83-98e9-8236153a6e2a",
   "metadata": {},
   "outputs": [
    {
     "name": "stdout",
     "output_type": "stream",
     "text": [
      "(np.float64(13.11027069901979), np.float64(17.66962930098021))\n"
     ]
    }
   ],
   "source": [
    "print(conf_interval_95)"
   ]
  },
  {
   "cell_type": "code",
   "execution_count": 27,
   "id": "c0dd6e9e-2fb7-42f5-8b4f-3fd3b263aa21",
   "metadata": {},
   "outputs": [
    {
     "name": "stdout",
     "output_type": "stream",
     "text": [
      "Point estimate for the mean: 15.389949999999999\n",
      "95% Confidence Interval for the mean: (np.float64(13.11027069901979), np.float64(17.66962930098021))\n"
     ]
    }
   ],
   "source": [
    "print(f\"Point estimate for the mean: {S_mean}\")\n",
    "print(f\"95% Confidence Interval for the mean: {conf_interval_95}\")"
   ]
  }
 ],
 "metadata": {
  "kernelspec": {
   "display_name": "Python (portofolio)",
   "language": "python",
   "name": "portofolio"
  },
  "language_info": {
   "codemirror_mode": {
    "name": "ipython",
    "version": 3
   },
   "file_extension": ".py",
   "mimetype": "text/x-python",
   "name": "python",
   "nbconvert_exporter": "python",
   "pygments_lexer": "ipython3",
   "version": "3.9.21"
  }
 },
 "nbformat": 4,
 "nbformat_minor": 5
}
