{
 "cells": [
  {
   "cell_type": "markdown",
   "id": "10b81ca0-3f2a-4cb1-a053-d88b54c4c599",
   "metadata": {},
   "source": [
    "# Package"
   ]
  },
  {
   "cell_type": "code",
   "execution_count": 1,
   "id": "5d3d6b2a-1f64-4380-be84-b22e58f45c64",
   "metadata": {},
   "outputs": [],
   "source": [
    "from pandas import read_csv\n",
    "from pandas import DataFrame\n",
    "from sklearn.datasets import load_diabetes\n",
    "from numpy import insert\n",
    "import statsmodels.api as sm\n",
    "from scipy.stats import t\n",
    "from sklearn.linear_model import LinearRegression"
   ]
  },
  {
   "cell_type": "markdown",
   "id": "9f37f46b-f165-4448-a29e-6829d46819de",
   "metadata": {},
   "source": [
    "# Load Data"
   ]
  },
  {
   "cell_type": "code",
   "execution_count": 2,
   "id": "3e7733de-485b-4f07-98a4-4ac2b9df185c",
   "metadata": {},
   "outputs": [],
   "source": [
    "diabetes = load_diabetes()"
   ]
  },
  {
   "cell_type": "code",
   "execution_count": 3,
   "id": "f7fef490-a1ff-48d9-a75e-186110ce4f2c",
   "metadata": {},
   "outputs": [],
   "source": [
    "df = DataFrame(diabetes.data, columns= diabetes.feature_names)\n",
    "df[\"target\"] = diabetes.target"
   ]
  },
  {
   "cell_type": "markdown",
   "id": "931d7771-ae44-464c-bcb4-114c0b6dc22b",
   "metadata": {},
   "source": [
    "# Covariates with intercept"
   ]
  },
  {
   "cell_type": "code",
   "execution_count": 4,
   "id": "93b7f847-5172-4119-a0ca-2266efc21b8b",
   "metadata": {},
   "outputs": [],
   "source": [
    "X = df.drop(\"target\", axis = 1)"
   ]
  },
  {
   "cell_type": "code",
   "execution_count": 5,
   "id": "e294c719-3983-45c9-b084-ce0444ffa305",
   "metadata": {},
   "outputs": [],
   "source": [
    "X_tilde = sm.add_constant(X)"
   ]
  },
  {
   "cell_type": "code",
   "execution_count": 6,
   "id": "063b83eb-2b80-4b81-b1d7-60786e570adc",
   "metadata": {},
   "outputs": [
    {
     "data": {
      "text/html": [
       "<div>\n",
       "<style scoped>\n",
       "    .dataframe tbody tr th:only-of-type {\n",
       "        vertical-align: middle;\n",
       "    }\n",
       "\n",
       "    .dataframe tbody tr th {\n",
       "        vertical-align: top;\n",
       "    }\n",
       "\n",
       "    .dataframe thead th {\n",
       "        text-align: right;\n",
       "    }\n",
       "</style>\n",
       "<table border=\"1\" class=\"dataframe\">\n",
       "  <thead>\n",
       "    <tr style=\"text-align: right;\">\n",
       "      <th></th>\n",
       "      <th>const</th>\n",
       "      <th>age</th>\n",
       "      <th>sex</th>\n",
       "      <th>bmi</th>\n",
       "      <th>bp</th>\n",
       "      <th>s1</th>\n",
       "      <th>s2</th>\n",
       "      <th>s3</th>\n",
       "      <th>s4</th>\n",
       "      <th>s5</th>\n",
       "      <th>s6</th>\n",
       "    </tr>\n",
       "  </thead>\n",
       "  <tbody>\n",
       "    <tr>\n",
       "      <th>0</th>\n",
       "      <td>1.0</td>\n",
       "      <td>0.038076</td>\n",
       "      <td>0.050680</td>\n",
       "      <td>0.061696</td>\n",
       "      <td>0.021872</td>\n",
       "      <td>-0.044223</td>\n",
       "      <td>-0.034821</td>\n",
       "      <td>-0.043401</td>\n",
       "      <td>-0.002592</td>\n",
       "      <td>0.019907</td>\n",
       "      <td>-0.017646</td>\n",
       "    </tr>\n",
       "    <tr>\n",
       "      <th>1</th>\n",
       "      <td>1.0</td>\n",
       "      <td>-0.001882</td>\n",
       "      <td>-0.044642</td>\n",
       "      <td>-0.051474</td>\n",
       "      <td>-0.026328</td>\n",
       "      <td>-0.008449</td>\n",
       "      <td>-0.019163</td>\n",
       "      <td>0.074412</td>\n",
       "      <td>-0.039493</td>\n",
       "      <td>-0.068332</td>\n",
       "      <td>-0.092204</td>\n",
       "    </tr>\n",
       "    <tr>\n",
       "      <th>2</th>\n",
       "      <td>1.0</td>\n",
       "      <td>0.085299</td>\n",
       "      <td>0.050680</td>\n",
       "      <td>0.044451</td>\n",
       "      <td>-0.005670</td>\n",
       "      <td>-0.045599</td>\n",
       "      <td>-0.034194</td>\n",
       "      <td>-0.032356</td>\n",
       "      <td>-0.002592</td>\n",
       "      <td>0.002861</td>\n",
       "      <td>-0.025930</td>\n",
       "    </tr>\n",
       "    <tr>\n",
       "      <th>3</th>\n",
       "      <td>1.0</td>\n",
       "      <td>-0.089063</td>\n",
       "      <td>-0.044642</td>\n",
       "      <td>-0.011595</td>\n",
       "      <td>-0.036656</td>\n",
       "      <td>0.012191</td>\n",
       "      <td>0.024991</td>\n",
       "      <td>-0.036038</td>\n",
       "      <td>0.034309</td>\n",
       "      <td>0.022688</td>\n",
       "      <td>-0.009362</td>\n",
       "    </tr>\n",
       "    <tr>\n",
       "      <th>4</th>\n",
       "      <td>1.0</td>\n",
       "      <td>0.005383</td>\n",
       "      <td>-0.044642</td>\n",
       "      <td>-0.036385</td>\n",
       "      <td>0.021872</td>\n",
       "      <td>0.003935</td>\n",
       "      <td>0.015596</td>\n",
       "      <td>0.008142</td>\n",
       "      <td>-0.002592</td>\n",
       "      <td>-0.031988</td>\n",
       "      <td>-0.046641</td>\n",
       "    </tr>\n",
       "    <tr>\n",
       "      <th>...</th>\n",
       "      <td>...</td>\n",
       "      <td>...</td>\n",
       "      <td>...</td>\n",
       "      <td>...</td>\n",
       "      <td>...</td>\n",
       "      <td>...</td>\n",
       "      <td>...</td>\n",
       "      <td>...</td>\n",
       "      <td>...</td>\n",
       "      <td>...</td>\n",
       "      <td>...</td>\n",
       "    </tr>\n",
       "    <tr>\n",
       "      <th>437</th>\n",
       "      <td>1.0</td>\n",
       "      <td>0.041708</td>\n",
       "      <td>0.050680</td>\n",
       "      <td>0.019662</td>\n",
       "      <td>0.059744</td>\n",
       "      <td>-0.005697</td>\n",
       "      <td>-0.002566</td>\n",
       "      <td>-0.028674</td>\n",
       "      <td>-0.002592</td>\n",
       "      <td>0.031193</td>\n",
       "      <td>0.007207</td>\n",
       "    </tr>\n",
       "    <tr>\n",
       "      <th>438</th>\n",
       "      <td>1.0</td>\n",
       "      <td>-0.005515</td>\n",
       "      <td>0.050680</td>\n",
       "      <td>-0.015906</td>\n",
       "      <td>-0.067642</td>\n",
       "      <td>0.049341</td>\n",
       "      <td>0.079165</td>\n",
       "      <td>-0.028674</td>\n",
       "      <td>0.034309</td>\n",
       "      <td>-0.018114</td>\n",
       "      <td>0.044485</td>\n",
       "    </tr>\n",
       "    <tr>\n",
       "      <th>439</th>\n",
       "      <td>1.0</td>\n",
       "      <td>0.041708</td>\n",
       "      <td>0.050680</td>\n",
       "      <td>-0.015906</td>\n",
       "      <td>0.017293</td>\n",
       "      <td>-0.037344</td>\n",
       "      <td>-0.013840</td>\n",
       "      <td>-0.024993</td>\n",
       "      <td>-0.011080</td>\n",
       "      <td>-0.046883</td>\n",
       "      <td>0.015491</td>\n",
       "    </tr>\n",
       "    <tr>\n",
       "      <th>440</th>\n",
       "      <td>1.0</td>\n",
       "      <td>-0.045472</td>\n",
       "      <td>-0.044642</td>\n",
       "      <td>0.039062</td>\n",
       "      <td>0.001215</td>\n",
       "      <td>0.016318</td>\n",
       "      <td>0.015283</td>\n",
       "      <td>-0.028674</td>\n",
       "      <td>0.026560</td>\n",
       "      <td>0.044529</td>\n",
       "      <td>-0.025930</td>\n",
       "    </tr>\n",
       "    <tr>\n",
       "      <th>441</th>\n",
       "      <td>1.0</td>\n",
       "      <td>-0.045472</td>\n",
       "      <td>-0.044642</td>\n",
       "      <td>-0.073030</td>\n",
       "      <td>-0.081413</td>\n",
       "      <td>0.083740</td>\n",
       "      <td>0.027809</td>\n",
       "      <td>0.173816</td>\n",
       "      <td>-0.039493</td>\n",
       "      <td>-0.004222</td>\n",
       "      <td>0.003064</td>\n",
       "    </tr>\n",
       "  </tbody>\n",
       "</table>\n",
       "<p>442 rows × 11 columns</p>\n",
       "</div>"
      ],
      "text/plain": [
       "     const       age       sex       bmi        bp        s1        s2  \\\n",
       "0      1.0  0.038076  0.050680  0.061696  0.021872 -0.044223 -0.034821   \n",
       "1      1.0 -0.001882 -0.044642 -0.051474 -0.026328 -0.008449 -0.019163   \n",
       "2      1.0  0.085299  0.050680  0.044451 -0.005670 -0.045599 -0.034194   \n",
       "3      1.0 -0.089063 -0.044642 -0.011595 -0.036656  0.012191  0.024991   \n",
       "4      1.0  0.005383 -0.044642 -0.036385  0.021872  0.003935  0.015596   \n",
       "..     ...       ...       ...       ...       ...       ...       ...   \n",
       "437    1.0  0.041708  0.050680  0.019662  0.059744 -0.005697 -0.002566   \n",
       "438    1.0 -0.005515  0.050680 -0.015906 -0.067642  0.049341  0.079165   \n",
       "439    1.0  0.041708  0.050680 -0.015906  0.017293 -0.037344 -0.013840   \n",
       "440    1.0 -0.045472 -0.044642  0.039062  0.001215  0.016318  0.015283   \n",
       "441    1.0 -0.045472 -0.044642 -0.073030 -0.081413  0.083740  0.027809   \n",
       "\n",
       "           s3        s4        s5        s6  \n",
       "0   -0.043401 -0.002592  0.019907 -0.017646  \n",
       "1    0.074412 -0.039493 -0.068332 -0.092204  \n",
       "2   -0.032356 -0.002592  0.002861 -0.025930  \n",
       "3   -0.036038  0.034309  0.022688 -0.009362  \n",
       "4    0.008142 -0.002592 -0.031988 -0.046641  \n",
       "..        ...       ...       ...       ...  \n",
       "437 -0.028674 -0.002592  0.031193  0.007207  \n",
       "438 -0.028674  0.034309 -0.018114  0.044485  \n",
       "439 -0.024993 -0.011080 -0.046883  0.015491  \n",
       "440 -0.028674  0.026560  0.044529 -0.025930  \n",
       "441  0.173816 -0.039493 -0.004222  0.003064  \n",
       "\n",
       "[442 rows x 11 columns]"
      ]
     },
     "execution_count": 6,
     "metadata": {},
     "output_type": "execute_result"
    }
   ],
   "source": [
    "X_tilde"
   ]
  },
  {
   "cell_type": "code",
   "execution_count": 7,
   "id": "af7f95b2-969b-4b50-a0cb-659184670a78",
   "metadata": {},
   "outputs": [
    {
     "data": {
      "text/html": [
       "<div>\n",
       "<style scoped>\n",
       "    .dataframe tbody tr th:only-of-type {\n",
       "        vertical-align: middle;\n",
       "    }\n",
       "\n",
       "    .dataframe tbody tr th {\n",
       "        vertical-align: top;\n",
       "    }\n",
       "\n",
       "    .dataframe thead th {\n",
       "        text-align: right;\n",
       "    }\n",
       "</style>\n",
       "<table border=\"1\" class=\"dataframe\">\n",
       "  <thead>\n",
       "    <tr style=\"text-align: right;\">\n",
       "      <th></th>\n",
       "      <th>const</th>\n",
       "      <th>age</th>\n",
       "      <th>sex</th>\n",
       "      <th>bmi</th>\n",
       "      <th>bp</th>\n",
       "      <th>s1</th>\n",
       "      <th>s2</th>\n",
       "      <th>s3</th>\n",
       "      <th>s4</th>\n",
       "      <th>s5</th>\n",
       "      <th>s6</th>\n",
       "    </tr>\n",
       "  </thead>\n",
       "  <tbody>\n",
       "    <tr>\n",
       "      <th>0</th>\n",
       "      <td>1.0</td>\n",
       "      <td>0.038076</td>\n",
       "      <td>0.050680</td>\n",
       "      <td>0.061696</td>\n",
       "      <td>0.021872</td>\n",
       "      <td>-0.044223</td>\n",
       "      <td>-0.034821</td>\n",
       "      <td>-0.043401</td>\n",
       "      <td>-0.002592</td>\n",
       "      <td>0.019907</td>\n",
       "      <td>-0.017646</td>\n",
       "    </tr>\n",
       "    <tr>\n",
       "      <th>1</th>\n",
       "      <td>1.0</td>\n",
       "      <td>-0.001882</td>\n",
       "      <td>-0.044642</td>\n",
       "      <td>-0.051474</td>\n",
       "      <td>-0.026328</td>\n",
       "      <td>-0.008449</td>\n",
       "      <td>-0.019163</td>\n",
       "      <td>0.074412</td>\n",
       "      <td>-0.039493</td>\n",
       "      <td>-0.068332</td>\n",
       "      <td>-0.092204</td>\n",
       "    </tr>\n",
       "    <tr>\n",
       "      <th>2</th>\n",
       "      <td>1.0</td>\n",
       "      <td>0.085299</td>\n",
       "      <td>0.050680</td>\n",
       "      <td>0.044451</td>\n",
       "      <td>-0.005670</td>\n",
       "      <td>-0.045599</td>\n",
       "      <td>-0.034194</td>\n",
       "      <td>-0.032356</td>\n",
       "      <td>-0.002592</td>\n",
       "      <td>0.002861</td>\n",
       "      <td>-0.025930</td>\n",
       "    </tr>\n",
       "    <tr>\n",
       "      <th>3</th>\n",
       "      <td>1.0</td>\n",
       "      <td>-0.089063</td>\n",
       "      <td>-0.044642</td>\n",
       "      <td>-0.011595</td>\n",
       "      <td>-0.036656</td>\n",
       "      <td>0.012191</td>\n",
       "      <td>0.024991</td>\n",
       "      <td>-0.036038</td>\n",
       "      <td>0.034309</td>\n",
       "      <td>0.022688</td>\n",
       "      <td>-0.009362</td>\n",
       "    </tr>\n",
       "    <tr>\n",
       "      <th>4</th>\n",
       "      <td>1.0</td>\n",
       "      <td>0.005383</td>\n",
       "      <td>-0.044642</td>\n",
       "      <td>-0.036385</td>\n",
       "      <td>0.021872</td>\n",
       "      <td>0.003935</td>\n",
       "      <td>0.015596</td>\n",
       "      <td>0.008142</td>\n",
       "      <td>-0.002592</td>\n",
       "      <td>-0.031988</td>\n",
       "      <td>-0.046641</td>\n",
       "    </tr>\n",
       "  </tbody>\n",
       "</table>\n",
       "</div>"
      ],
      "text/plain": [
       "   const       age       sex       bmi        bp        s1        s2  \\\n",
       "0    1.0  0.038076  0.050680  0.061696  0.021872 -0.044223 -0.034821   \n",
       "1    1.0 -0.001882 -0.044642 -0.051474 -0.026328 -0.008449 -0.019163   \n",
       "2    1.0  0.085299  0.050680  0.044451 -0.005670 -0.045599 -0.034194   \n",
       "3    1.0 -0.089063 -0.044642 -0.011595 -0.036656  0.012191  0.024991   \n",
       "4    1.0  0.005383 -0.044642 -0.036385  0.021872  0.003935  0.015596   \n",
       "\n",
       "         s3        s4        s5        s6  \n",
       "0 -0.043401 -0.002592  0.019907 -0.017646  \n",
       "1  0.074412 -0.039493 -0.068332 -0.092204  \n",
       "2 -0.032356 -0.002592  0.002861 -0.025930  \n",
       "3 -0.036038  0.034309  0.022688 -0.009362  \n",
       "4  0.008142 -0.002592 -0.031988 -0.046641  "
      ]
     },
     "execution_count": 7,
     "metadata": {},
     "output_type": "execute_result"
    }
   ],
   "source": [
    "X_tilde.head()"
   ]
  },
  {
   "cell_type": "markdown",
   "id": "bb538e42-a6e0-47aa-9b1d-1f16b4425c2e",
   "metadata": {},
   "source": [
    "# Linear model without intercept"
   ]
  },
  {
   "cell_type": "code",
   "execution_count": 19,
   "id": "13826640-6a1c-4374-901a-becdb5021de6",
   "metadata": {},
   "outputs": [],
   "source": [
    "model = sm.OLS(Y, X).fit()"
   ]
  },
  {
   "cell_type": "markdown",
   "id": "d2245c0d-8fc0-435e-b1b1-71e309da7d78",
   "metadata": {},
   "source": [
    "# Let's test if regression coefficien is significant"
   ]
  },
  {
   "cell_type": "markdown",
   "id": "e8cb7c0a-2faa-40c2-a51d-c875cc4ec2aa",
   "metadata": {},
   "source": [
    "Consider the coefficient θ in the linear regression model with one independent\n",
    "variable.\n",
    "\n",
    "**Hypotheses :** \n",
    "- Null Hypothesis (H0) : θ = 0 (The coefficient is not statistically\n",
    "significant).\n",
    "- Alternative Hypothesis (H1) : θ 6= 0 (The coefficient is statistically\n",
    "significant).\n",
    "\n",
    "**Test Statistic :** - t = θb / SE(θb)\n",
    "\n",
    "**Critical Value :** - tα/2 for a two-tailed test.\n",
    "\n",
    "**Decision Rule :** - If |t| > tα/2, reject H0 in favor of H1.\n",
    "\n",
    "**Conclusion :** - Based on the test, we conclude whether the coefficient θ is\n",
    "statistically significant or not."
   ]
  },
  {
   "cell_type": "code",
   "execution_count": 20,
   "id": "b3e13ecc-9d05-4800-b9c0-2578e8dc98c1",
   "metadata": {},
   "outputs": [
    {
     "data": {
      "text/html": [
       "<table class=\"simpletable\">\n",
       "<caption>OLS Regression Results</caption>\n",
       "<tr>\n",
       "  <th>Dep. Variable:</th>         <td>target</td>      <th>  R-squared (uncentered):</th>      <td>   0.106</td>\n",
       "</tr>\n",
       "<tr>\n",
       "  <th>Model:</th>                   <td>OLS</td>       <th>  Adj. R-squared (uncentered):</th> <td>   0.085</td>\n",
       "</tr>\n",
       "<tr>\n",
       "  <th>Method:</th>             <td>Least Squares</td>  <th>  F-statistic:       </th>          <td>   5.100</td>\n",
       "</tr>\n",
       "<tr>\n",
       "  <th>Date:</th>             <td>Fri, 13 Jun 2025</td> <th>  Prob (F-statistic):</th>          <td>4.72e-07</td>\n",
       "</tr>\n",
       "<tr>\n",
       "  <th>Time:</th>                 <td>11:15:51</td>     <th>  Log-Likelihood:    </th>          <td> -2873.9</td>\n",
       "</tr>\n",
       "<tr>\n",
       "  <th>No. Observations:</th>      <td>   442</td>      <th>  AIC:               </th>          <td>   5768.</td>\n",
       "</tr>\n",
       "<tr>\n",
       "  <th>Df Residuals:</th>          <td>   432</td>      <th>  BIC:               </th>          <td>   5809.</td>\n",
       "</tr>\n",
       "<tr>\n",
       "  <th>Df Model:</th>              <td>    10</td>      <th>                     </th>              <td> </td>   \n",
       "</tr>\n",
       "<tr>\n",
       "  <th>Covariance Type:</th>      <td>nonrobust</td>    <th>                     </th>              <td> </td>   \n",
       "</tr>\n",
       "</table>\n",
       "<table class=\"simpletable\">\n",
       "<tr>\n",
       "   <td></td>      <th>coef</th>     <th>std err</th>      <th>t</th>      <th>P>|t|</th>  <th>[0.025</th>    <th>0.975]</th>  \n",
       "</tr>\n",
       "<tr>\n",
       "  <th>age</th> <td>  -10.0099</td> <td>  179.967</td> <td>   -0.056</td> <td> 0.956</td> <td> -363.729</td> <td>  343.709</td>\n",
       "</tr>\n",
       "<tr>\n",
       "  <th>sex</th> <td> -239.8156</td> <td>  184.404</td> <td>   -1.300</td> <td> 0.194</td> <td> -602.255</td> <td>  122.624</td>\n",
       "</tr>\n",
       "<tr>\n",
       "  <th>bmi</th> <td>  519.8459</td> <td>  200.401</td> <td>    2.594</td> <td> 0.010</td> <td>  125.964</td> <td>  913.728</td>\n",
       "</tr>\n",
       "<tr>\n",
       "  <th>bp</th>  <td>  324.3846</td> <td>  197.053</td> <td>    1.646</td> <td> 0.100</td> <td>  -62.917</td> <td>  711.687</td>\n",
       "</tr>\n",
       "<tr>\n",
       "  <th>s1</th>  <td> -792.1756</td> <td> 1255.052</td> <td>   -0.631</td> <td> 0.528</td> <td>-3258.944</td> <td> 1674.593</td>\n",
       "</tr>\n",
       "<tr>\n",
       "  <th>s2</th>  <td>  476.7390</td> <td> 1021.170</td> <td>    0.467</td> <td> 0.641</td> <td>-1530.341</td> <td> 2483.819</td>\n",
       "</tr>\n",
       "<tr>\n",
       "  <th>s3</th>  <td>  101.0433</td> <td>  640.151</td> <td>    0.158</td> <td> 0.875</td> <td>-1157.155</td> <td> 1359.242</td>\n",
       "</tr>\n",
       "<tr>\n",
       "  <th>s4</th>  <td>  177.0632</td> <td>  486.370</td> <td>    0.364</td> <td> 0.716</td> <td> -778.883</td> <td> 1133.009</td>\n",
       "</tr>\n",
       "<tr>\n",
       "  <th>s5</th>  <td>  751.2737</td> <td>  517.768</td> <td>    1.451</td> <td> 0.148</td> <td> -266.384</td> <td> 1768.931</td>\n",
       "</tr>\n",
       "<tr>\n",
       "  <th>s6</th>  <td>   67.6267</td> <td>  198.747</td> <td>    0.340</td> <td> 0.734</td> <td> -323.004</td> <td>  458.257</td>\n",
       "</tr>\n",
       "</table>\n",
       "<table class=\"simpletable\">\n",
       "<tr>\n",
       "  <th>Omnibus:</th>       <td> 1.506</td> <th>  Durbin-Watson:     </th> <td>   0.223</td>\n",
       "</tr>\n",
       "<tr>\n",
       "  <th>Prob(Omnibus):</th> <td> 0.471</td> <th>  Jarque-Bera (JB):  </th> <td>   1.404</td>\n",
       "</tr>\n",
       "<tr>\n",
       "  <th>Skew:</th>          <td> 0.017</td> <th>  Prob(JB):          </th> <td>   0.496</td>\n",
       "</tr>\n",
       "<tr>\n",
       "  <th>Kurtosis:</th>      <td> 2.726</td> <th>  Cond. No.          </th> <td>    21.7</td>\n",
       "</tr>\n",
       "</table><br/><br/>Notes:<br/>[1] R² is computed without centering (uncentered) since the model does not contain a constant.<br/>[2] Standard Errors assume that the covariance matrix of the errors is correctly specified."
      ],
      "text/latex": [
       "\\begin{center}\n",
       "\\begin{tabular}{lclc}\n",
       "\\toprule\n",
       "\\textbf{Dep. Variable:}    &      target      & \\textbf{  R-squared (uncentered):}      &     0.106   \\\\\n",
       "\\textbf{Model:}            &       OLS        & \\textbf{  Adj. R-squared (uncentered):} &     0.085   \\\\\n",
       "\\textbf{Method:}           &  Least Squares   & \\textbf{  F-statistic:       }          &     5.100   \\\\\n",
       "\\textbf{Date:}             & Fri, 13 Jun 2025 & \\textbf{  Prob (F-statistic):}          &  4.72e-07   \\\\\n",
       "\\textbf{Time:}             &     11:15:51     & \\textbf{  Log-Likelihood:    }          &   -2873.9   \\\\\n",
       "\\textbf{No. Observations:} &         442      & \\textbf{  AIC:               }          &     5768.   \\\\\n",
       "\\textbf{Df Residuals:}     &         432      & \\textbf{  BIC:               }          &     5809.   \\\\\n",
       "\\textbf{Df Model:}         &          10      & \\textbf{                     }          &             \\\\\n",
       "\\textbf{Covariance Type:}  &    nonrobust     & \\textbf{                     }          &             \\\\\n",
       "\\bottomrule\n",
       "\\end{tabular}\n",
       "\\begin{tabular}{lcccccc}\n",
       "             & \\textbf{coef} & \\textbf{std err} & \\textbf{t} & \\textbf{P$> |$t$|$} & \\textbf{[0.025} & \\textbf{0.975]}  \\\\\n",
       "\\midrule\n",
       "\\textbf{age} &     -10.0099  &      179.967     &    -0.056  &         0.956        &     -363.729    &      343.709     \\\\\n",
       "\\textbf{sex} &    -239.8156  &      184.404     &    -1.300  &         0.194        &     -602.255    &      122.624     \\\\\n",
       "\\textbf{bmi} &     519.8459  &      200.401     &     2.594  &         0.010        &      125.964    &      913.728     \\\\\n",
       "\\textbf{bp}  &     324.3846  &      197.053     &     1.646  &         0.100        &      -62.917    &      711.687     \\\\\n",
       "\\textbf{s1}  &    -792.1756  &     1255.052     &    -0.631  &         0.528        &    -3258.944    &     1674.593     \\\\\n",
       "\\textbf{s2}  &     476.7390  &     1021.170     &     0.467  &         0.641        &    -1530.341    &     2483.819     \\\\\n",
       "\\textbf{s3}  &     101.0433  &      640.151     &     0.158  &         0.875        &    -1157.155    &     1359.242     \\\\\n",
       "\\textbf{s4}  &     177.0632  &      486.370     &     0.364  &         0.716        &     -778.883    &     1133.009     \\\\\n",
       "\\textbf{s5}  &     751.2737  &      517.768     &     1.451  &         0.148        &     -266.384    &     1768.931     \\\\\n",
       "\\textbf{s6}  &      67.6267  &      198.747     &     0.340  &         0.734        &     -323.004    &      458.257     \\\\\n",
       "\\bottomrule\n",
       "\\end{tabular}\n",
       "\\begin{tabular}{lclc}\n",
       "\\textbf{Omnibus:}       &  1.506 & \\textbf{  Durbin-Watson:     } &    0.223  \\\\\n",
       "\\textbf{Prob(Omnibus):} &  0.471 & \\textbf{  Jarque-Bera (JB):  } &    1.404  \\\\\n",
       "\\textbf{Skew:}          &  0.017 & \\textbf{  Prob(JB):          } &    0.496  \\\\\n",
       "\\textbf{Kurtosis:}      &  2.726 & \\textbf{  Cond. No.          } &     21.7  \\\\\n",
       "\\bottomrule\n",
       "\\end{tabular}\n",
       "%\\caption{OLS Regression Results}\n",
       "\\end{center}\n",
       "\n",
       "Notes: \\newline\n",
       " [1] R² is computed without centering (uncentered) since the model does not contain a constant. \\newline\n",
       " [2] Standard Errors assume that the covariance matrix of the errors is correctly specified."
      ],
      "text/plain": [
       "<class 'statsmodels.iolib.summary.Summary'>\n",
       "\"\"\"\n",
       "                                 OLS Regression Results                                \n",
       "=======================================================================================\n",
       "Dep. Variable:                 target   R-squared (uncentered):                   0.106\n",
       "Model:                            OLS   Adj. R-squared (uncentered):              0.085\n",
       "Method:                 Least Squares   F-statistic:                              5.100\n",
       "Date:                Fri, 13 Jun 2025   Prob (F-statistic):                    4.72e-07\n",
       "Time:                        11:15:51   Log-Likelihood:                         -2873.9\n",
       "No. Observations:                 442   AIC:                                      5768.\n",
       "Df Residuals:                     432   BIC:                                      5809.\n",
       "Df Model:                          10                                                  \n",
       "Covariance Type:            nonrobust                                                  \n",
       "==============================================================================\n",
       "                 coef    std err          t      P>|t|      [0.025      0.975]\n",
       "------------------------------------------------------------------------------\n",
       "age          -10.0099    179.967     -0.056      0.956    -363.729     343.709\n",
       "sex         -239.8156    184.404     -1.300      0.194    -602.255     122.624\n",
       "bmi          519.8459    200.401      2.594      0.010     125.964     913.728\n",
       "bp           324.3846    197.053      1.646      0.100     -62.917     711.687\n",
       "s1          -792.1756   1255.052     -0.631      0.528   -3258.944    1674.593\n",
       "s2           476.7390   1021.170      0.467      0.641   -1530.341    2483.819\n",
       "s3           101.0433    640.151      0.158      0.875   -1157.155    1359.242\n",
       "s4           177.0632    486.370      0.364      0.716    -778.883    1133.009\n",
       "s5           751.2737    517.768      1.451      0.148    -266.384    1768.931\n",
       "s6            67.6267    198.747      0.340      0.734    -323.004     458.257\n",
       "==============================================================================\n",
       "Omnibus:                        1.506   Durbin-Watson:                   0.223\n",
       "Prob(Omnibus):                  0.471   Jarque-Bera (JB):                1.404\n",
       "Skew:                           0.017   Prob(JB):                        0.496\n",
       "Kurtosis:                       2.726   Cond. No.                         21.7\n",
       "==============================================================================\n",
       "\n",
       "Notes:\n",
       "[1] R² is computed without centering (uncentered) since the model does not contain a constant.\n",
       "[2] Standard Errors assume that the covariance matrix of the errors is correctly specified.\n",
       "\"\"\""
      ]
     },
     "execution_count": 20,
     "metadata": {},
     "output_type": "execute_result"
    }
   ],
   "source": [
    "model.summary()"
   ]
  },
  {
   "cell_type": "code",
   "execution_count": 32,
   "id": "05c1f30d-9c28-4aad-89bc-bd676eaf562d",
   "metadata": {},
   "outputs": [
    {
     "data": {
      "text/plain": [
       "age   -0.055621\n",
       "sex   -1.300494\n",
       "bmi    2.594032\n",
       "bp     1.646180\n",
       "s1    -0.631189\n",
       "s2     0.466856\n",
       "s3     0.157843\n",
       "s4     0.364051\n",
       "s5     1.450985\n",
       "s6     0.340266\n",
       "dtype: float64"
      ]
     },
     "execution_count": 32,
     "metadata": {},
     "output_type": "execute_result"
    }
   ],
   "source": [
    "model.tvalues"
   ]
  },
  {
   "cell_type": "code",
   "execution_count": 28,
   "id": "446ef519-01bf-4b5a-acd7-c53802ba7d69",
   "metadata": {},
   "outputs": [
    {
     "name": "stdout",
     "output_type": "stream",
     "text": [
      "Feature with significant coefficient is : bmi\n"
     ]
    }
   ],
   "source": [
    "# Decision rule\n",
    "for feature_name, t_val in model.tvalues.items():\n",
    "    if abs(t_val) > t_score_95:\n",
    "        print(\"Feature with significant coefficient :\", feature_name)"
   ]
  },
  {
   "cell_type": "markdown",
   "id": "e775acc5-52a4-4465-9f04-b957a6046347",
   "metadata": {},
   "source": [
    "# p_values sorted"
   ]
  },
  {
   "cell_type": "code",
   "execution_count": 41,
   "id": "db1b87a8-a518-44c6-bad3-7d832b99ca20",
   "metadata": {},
   "outputs": [
    {
     "data": {
      "text/plain": [
       "age    0.955670\n",
       "sex    0.194125\n",
       "bmi    0.009808\n",
       "bp     0.100454\n",
       "s1     0.528251\n",
       "s2     0.640839\n",
       "s3     0.874654\n",
       "s4     0.715998\n",
       "s5     0.147510\n",
       "s6     0.733822\n",
       "dtype: float64"
      ]
     },
     "execution_count": 41,
     "metadata": {},
     "output_type": "execute_result"
    }
   ],
   "source": [
    "model.pvalues"
   ]
  },
  {
   "cell_type": "code",
   "execution_count": 46,
   "id": "b476f676-9231-4d13-9454-ccd8beb33d03",
   "metadata": {},
   "outputs": [
    {
     "data": {
      "text/plain": [
       "('bmi', 0.009808118174027873)"
      ]
     },
     "execution_count": 46,
     "metadata": {},
     "output_type": "execute_result"
    }
   ],
   "source": [
    "p_values = model.pvalues.items()\n",
    "\n",
    "p_values_sorted = sorted(p_values, key=lambda x: x[1])\n",
    "\n",
    "p_values_sorted[0]"
   ]
  },
  {
   "cell_type": "markdown",
   "id": "8301fdcf-7f38-4f48-ac28-14d784864a6c",
   "metadata": {},
   "source": [
    "# Significant Variables "
   ]
  },
  {
   "cell_type": "code",
   "execution_count": null,
   "id": "5a815922-16b4-4667-b72d-f5b2fd414ea8",
   "metadata": {},
   "outputs": [],
   "source": [
    "# Let's calculate the Test Statistic \n",
    "confidence_interval = 0.95\n",
    "alpha = 1- confidence_interval\n",
    "t_score_95 = t.ppf(1-(alpha/2), df = X.shape[1]) # degreed of freedom is the number of variable\n",
    "t_score_95"
   ]
  },
  {
   "cell_type": "code",
   "execution_count": 47,
   "id": "1667bf2b-d988-4881-b7c1-1c4a725be11d",
   "metadata": {},
   "outputs": [
    {
     "name": "stdout",
     "output_type": "stream",
     "text": [
      "Feature with significant coefficient : bmi\n"
     ]
    }
   ],
   "source": [
    "# Decision rule _ method 1\n",
    "for feature_name, p_values in p_values_sorted:\n",
    "    if p_values < alpha :\n",
    "        print(\"Feature with significant coefficient :\", feature_name)"
   ]
  },
  {
   "cell_type": "code",
   "execution_count": 48,
   "id": "f14fa8ee-8324-4b9e-9911-62e6f02b3b1c",
   "metadata": {},
   "outputs": [
    {
     "name": "stdout",
     "output_type": "stream",
     "text": [
      "Feature with significant coefficient : bmi\n"
     ]
    }
   ],
   "source": [
    "# Decision rule _ method 2 \n",
    "for feature_name, t_val in model.tvalues.items():\n",
    "    if abs(t_val) > t_score_95:\n",
    "        print(\"Feature with significant coefficient :\", feature_name)"
   ]
  }
 ],
 "metadata": {
  "kernelspec": {
   "display_name": "Python (portofolio)",
   "language": "python",
   "name": "portofolio"
  },
  "language_info": {
   "codemirror_mode": {
    "name": "ipython",
    "version": 3
   },
   "file_extension": ".py",
   "mimetype": "text/x-python",
   "name": "python",
   "nbconvert_exporter": "python",
   "pygments_lexer": "ipython3",
   "version": "3.9.21"
  }
 },
 "nbformat": 4,
 "nbformat_minor": 5
}
