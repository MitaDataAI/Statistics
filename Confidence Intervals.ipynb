{
 "cells": [
  {
   "cell_type": "markdown",
   "id": "a835ac55-b709-4ad1-a31e-ac0631a66a49",
   "metadata": {},
   "source": [
    "# Package"
   ]
  },
  {
   "cell_type": "code",
   "execution_count": 13,
   "id": "ddc37e37-9896-40b5-a407-29fcd18c89ec",
   "metadata": {},
   "outputs": [],
   "source": [
    "import numpy as np\n",
    "from scipy.stats import norm"
   ]
  },
  {
   "cell_type": "markdown",
   "id": "b5620c21-6c52-4131-9d05-f1855619b9ea",
   "metadata": {},
   "source": [
    "# Point estimate for the mean"
   ]
  },
  {
   "cell_type": "code",
   "execution_count": 6,
   "id": "0ef95464-4d99-4521-9d7e-2699f7bcd36f",
   "metadata": {},
   "outputs": [],
   "source": [
    "S=np.array([16.621, 17.416, 19.147, 9.745, 13.082, 16.125, 15.078, 4.676, 16.923,\n",
    "21.853, 12.971, 10.198, 24.208, 18.028, 11.363, 10.702, 22.305, 13.151, 20.258,\n",
    "13.949])"
   ]
  },
  {
   "cell_type": "code",
   "execution_count": 12,
   "id": "594b609b-c781-4185-b49e-11a3b8bf59e7",
   "metadata": {},
   "outputs": [
    {
     "name": "stdout",
     "output_type": "stream",
     "text": [
      "Point estimate for the mean is : 15.389949999999999\n"
     ]
    }
   ],
   "source": [
    "S_mean = np.mean(S)\n",
    "print(\"Point estimate for the mean is :\", S_mean)"
   ]
  },
  {
   "cell_type": "markdown",
   "id": "572be920-172c-4529-9091-142694d80e21",
   "metadata": {},
   "source": [
    "# Confidence Intervals on 99% confidence level"
   ]
  },
  {
   "cell_type": "code",
   "execution_count": 20,
   "id": "1a85ea7c-8d8a-46e9-a473-69496ab6b6e5",
   "metadata": {},
   "outputs": [],
   "source": [
    "confidence_level_99 = 0.99\n",
    "alpha = 1 - confidence_level_99"
   ]
  },
  {
   "cell_type": "code",
   "execution_count": 21,
   "id": "486eeafc-660e-4300-a97b-c7666b32fde0",
   "metadata": {},
   "outputs": [],
   "source": [
    "z_score_99 = norm.ppf(1-(alpha/2))"
   ]
  },
  {
   "cell_type": "code",
   "execution_count": 22,
   "id": "2fe4b7bc-cf8e-4c4f-ad38-9c9bb401fc54",
   "metadata": {},
   "outputs": [
    {
     "data": {
      "text/plain": [
       "np.float64(2.5758293035489004)"
      ]
     },
     "execution_count": 22,
     "metadata": {},
     "output_type": "execute_result"
    }
   ],
   "source": [
    "z_score_99"
   ]
  },
  {
   "cell_type": "code",
   "execution_count": 23,
   "id": "eb5a4e20-107f-4fa2-8c4c-a960cc2af641",
   "metadata": {},
   "outputs": [],
   "source": [
    "# Calculate the standard error of the mean non biased (n-1)\n",
    "std_error = np.std(S, ddof=1) / np.sqrt(len(S))"
   ]
  },
  {
   "cell_type": "code",
   "execution_count": 24,
   "id": "cd32505f-3c76-44ff-9083-a3ba42821251",
   "metadata": {},
   "outputs": [],
   "source": [
    "margin_of_error_99 = z_score_99 * std_error"
   ]
  },
  {
   "cell_type": "code",
   "execution_count": 26,
   "id": "9949f154-8702-407b-b220-c90e3d804890",
   "metadata": {},
   "outputs": [],
   "source": [
    "conf_interval_99 = (S_mean - margin_of_error_99, S_mean + margin_of_error_99)"
   ]
  },
  {
   "cell_type": "code",
   "execution_count": 27,
   "id": "cc1090a6-b9ff-4b9a-82e4-0a43d2148757",
   "metadata": {},
   "outputs": [
    {
     "data": {
      "text/plain": [
       "(np.float64(12.584409025068949), np.float64(18.195490974931047))"
      ]
     },
     "execution_count": 27,
     "metadata": {},
     "output_type": "execute_result"
    }
   ],
   "source": [
    "conf_interval_99"
   ]
  },
  {
   "cell_type": "code",
   "execution_count": 30,
   "id": "3a681bbe-71a7-4f9d-803b-92e08f515c08",
   "metadata": {},
   "outputs": [
    {
     "name": "stdout",
     "output_type": "stream",
     "text": [
      "Point estimate for the mean: 15.389949999999999\n",
      "99% Confidence Interval for the mean: (np.float64(12.584409025068949), np.float64(18.195490974931047))\n"
     ]
    }
   ],
   "source": [
    "print(f\"Point estimate for the mean: {S_mean}\")\n",
    "print(f\"99% Confidence Interval for the mean: {conf_interval_99}\")"
   ]
  },
  {
   "cell_type": "markdown",
   "id": "ceb209f8-49c0-42c6-b4cc-aed2ed755a21",
   "metadata": {},
   "source": [
    "# Confidence Intervals on 95% confidence level"
   ]
  }
 ],
 "metadata": {
  "kernelspec": {
   "display_name": "Python (portofolio)",
   "language": "python",
   "name": "portofolio"
  },
  "language_info": {
   "codemirror_mode": {
    "name": "ipython",
    "version": 3
   },
   "file_extension": ".py",
   "mimetype": "text/x-python",
   "name": "python",
   "nbconvert_exporter": "python",
   "pygments_lexer": "ipython3",
   "version": "3.9.21"
  }
 },
 "nbformat": 4,
 "nbformat_minor": 5
}
