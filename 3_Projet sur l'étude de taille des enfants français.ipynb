{
 "cells": [
  {
   "cell_type": "markdown",
   "id": "05bfebb1-ef36-42b5-931b-a10e6d112658",
   "metadata": {},
   "source": [
    "# Packages"
   ]
  },
  {
   "cell_type": "code",
   "execution_count": 1,
   "id": "cd4875c3-19a4-4c7e-90e2-1fa140183110",
   "metadata": {},
   "outputs": [],
   "source": [
    "import pandas as pd\n",
    "import numpy as np\n",
    "import seaborn as sns\n",
    "import matplotlib.pyplot as plt\n",
    "from sklearn.linear_model import LinearRegression\n",
    "from statsmodels.nonparametric.kde import KDEUnivariate"
   ]
  },
  {
   "cell_type": "markdown",
   "id": "6db2ca9c-84a2-4f9e-a19e-f7ceb701b0a4",
   "metadata": {},
   "source": [
    "# Galton"
   ]
  },
  {
   "cell_type": "markdown",
   "id": "14dc0c22-4f11-4bb2-bb20-7b7cda9e13a6",
   "metadata": {},
   "source": [
    "## Load Data"
   ]
  },
  {
   "cell_type": "code",
   "execution_count": 2,
   "id": "b033f629-5f63-46c7-b6d6-c3a9bc3789fd",
   "metadata": {},
   "outputs": [],
   "source": [
    "df = pd.read_csv(\"GaltonsHeightData.csv\")"
   ]
  },
  {
   "cell_type": "code",
   "execution_count": 3,
   "id": "33103357-b7d6-493e-a659-efcf0eaf16cb",
   "metadata": {},
   "outputs": [
    {
     "data": {
      "text/html": [
       "<div>\n",
       "<style scoped>\n",
       "    .dataframe tbody tr th:only-of-type {\n",
       "        vertical-align: middle;\n",
       "    }\n",
       "\n",
       "    .dataframe tbody tr th {\n",
       "        vertical-align: top;\n",
       "    }\n",
       "\n",
       "    .dataframe thead th {\n",
       "        text-align: right;\n",
       "    }\n",
       "</style>\n",
       "<table border=\"1\" class=\"dataframe\">\n",
       "  <thead>\n",
       "    <tr style=\"text-align: right;\">\n",
       "      <th></th>\n",
       "      <th>Family</th>\n",
       "      <th>Father</th>\n",
       "      <th>Mother</th>\n",
       "      <th>Gender</th>\n",
       "      <th>Height</th>\n",
       "      <th>Kids</th>\n",
       "    </tr>\n",
       "  </thead>\n",
       "  <tbody>\n",
       "    <tr>\n",
       "      <th>0</th>\n",
       "      <td>1</td>\n",
       "      <td>78.5</td>\n",
       "      <td>67.0</td>\n",
       "      <td>M</td>\n",
       "      <td>73.2</td>\n",
       "      <td>4</td>\n",
       "    </tr>\n",
       "    <tr>\n",
       "      <th>1</th>\n",
       "      <td>1</td>\n",
       "      <td>78.5</td>\n",
       "      <td>67.0</td>\n",
       "      <td>F</td>\n",
       "      <td>69.2</td>\n",
       "      <td>4</td>\n",
       "    </tr>\n",
       "    <tr>\n",
       "      <th>2</th>\n",
       "      <td>1</td>\n",
       "      <td>78.5</td>\n",
       "      <td>67.0</td>\n",
       "      <td>F</td>\n",
       "      <td>69.0</td>\n",
       "      <td>4</td>\n",
       "    </tr>\n",
       "    <tr>\n",
       "      <th>3</th>\n",
       "      <td>1</td>\n",
       "      <td>78.5</td>\n",
       "      <td>67.0</td>\n",
       "      <td>F</td>\n",
       "      <td>69.0</td>\n",
       "      <td>4</td>\n",
       "    </tr>\n",
       "    <tr>\n",
       "      <th>4</th>\n",
       "      <td>2</td>\n",
       "      <td>75.5</td>\n",
       "      <td>66.5</td>\n",
       "      <td>M</td>\n",
       "      <td>73.5</td>\n",
       "      <td>4</td>\n",
       "    </tr>\n",
       "  </tbody>\n",
       "</table>\n",
       "</div>"
      ],
      "text/plain": [
       "   Family  Father  Mother Gender  Height  Kids\n",
       "0       1    78.5    67.0      M    73.2     4\n",
       "1       1    78.5    67.0      F    69.2     4\n",
       "2       1    78.5    67.0      F    69.0     4\n",
       "3       1    78.5    67.0      F    69.0     4\n",
       "4       2    75.5    66.5      M    73.5     4"
      ]
     },
     "execution_count": 3,
     "metadata": {},
     "output_type": "execute_result"
    }
   ],
   "source": [
    "df.head()"
   ]
  },
  {
   "cell_type": "markdown",
   "id": "01e7567f-fc40-4cb1-bc33-de07fcb8fcf7",
   "metadata": {},
   "source": [
    "The statistic unit here is one child. The data is in long format. "
   ]
  },
  {
   "cell_type": "code",
   "execution_count": 4,
   "id": "cca707bf-091f-4458-b26c-b30093e0a7e0",
   "metadata": {},
   "outputs": [
    {
     "data": {
      "text/html": [
       "<div>\n",
       "<style scoped>\n",
       "    .dataframe tbody tr th:only-of-type {\n",
       "        vertical-align: middle;\n",
       "    }\n",
       "\n",
       "    .dataframe tbody tr th {\n",
       "        vertical-align: top;\n",
       "    }\n",
       "\n",
       "    .dataframe thead th {\n",
       "        text-align: right;\n",
       "    }\n",
       "</style>\n",
       "<table border=\"1\" class=\"dataframe\">\n",
       "  <thead>\n",
       "    <tr style=\"text-align: right;\">\n",
       "      <th></th>\n",
       "      <th>Family</th>\n",
       "      <th>Father</th>\n",
       "      <th>Mother</th>\n",
       "      <th>Height</th>\n",
       "      <th>Kids</th>\n",
       "    </tr>\n",
       "  </thead>\n",
       "  <tbody>\n",
       "    <tr>\n",
       "      <th>count</th>\n",
       "      <td>898.000000</td>\n",
       "      <td>898.000000</td>\n",
       "      <td>898.000000</td>\n",
       "      <td>898.000000</td>\n",
       "      <td>898.000000</td>\n",
       "    </tr>\n",
       "    <tr>\n",
       "      <th>mean</th>\n",
       "      <td>105.216036</td>\n",
       "      <td>69.232851</td>\n",
       "      <td>64.084410</td>\n",
       "      <td>66.760690</td>\n",
       "      <td>6.135857</td>\n",
       "    </tr>\n",
       "    <tr>\n",
       "      <th>std</th>\n",
       "      <td>57.189899</td>\n",
       "      <td>2.470256</td>\n",
       "      <td>2.307025</td>\n",
       "      <td>3.582918</td>\n",
       "      <td>2.685156</td>\n",
       "    </tr>\n",
       "    <tr>\n",
       "      <th>min</th>\n",
       "      <td>1.000000</td>\n",
       "      <td>62.000000</td>\n",
       "      <td>58.000000</td>\n",
       "      <td>56.000000</td>\n",
       "      <td>1.000000</td>\n",
       "    </tr>\n",
       "    <tr>\n",
       "      <th>25%</th>\n",
       "      <td>58.000000</td>\n",
       "      <td>68.000000</td>\n",
       "      <td>63.000000</td>\n",
       "      <td>64.000000</td>\n",
       "      <td>4.000000</td>\n",
       "    </tr>\n",
       "    <tr>\n",
       "      <th>50%</th>\n",
       "      <td>105.000000</td>\n",
       "      <td>69.000000</td>\n",
       "      <td>64.000000</td>\n",
       "      <td>66.500000</td>\n",
       "      <td>6.000000</td>\n",
       "    </tr>\n",
       "    <tr>\n",
       "      <th>75%</th>\n",
       "      <td>155.750000</td>\n",
       "      <td>71.000000</td>\n",
       "      <td>65.500000</td>\n",
       "      <td>69.700000</td>\n",
       "      <td>8.000000</td>\n",
       "    </tr>\n",
       "    <tr>\n",
       "      <th>max</th>\n",
       "      <td>205.000000</td>\n",
       "      <td>78.500000</td>\n",
       "      <td>70.500000</td>\n",
       "      <td>79.000000</td>\n",
       "      <td>15.000000</td>\n",
       "    </tr>\n",
       "  </tbody>\n",
       "</table>\n",
       "</div>"
      ],
      "text/plain": [
       "           Family      Father      Mother      Height        Kids\n",
       "count  898.000000  898.000000  898.000000  898.000000  898.000000\n",
       "mean   105.216036   69.232851   64.084410   66.760690    6.135857\n",
       "std     57.189899    2.470256    2.307025    3.582918    2.685156\n",
       "min      1.000000   62.000000   58.000000   56.000000    1.000000\n",
       "25%     58.000000   68.000000   63.000000   64.000000    4.000000\n",
       "50%    105.000000   69.000000   64.000000   66.500000    6.000000\n",
       "75%    155.750000   71.000000   65.500000   69.700000    8.000000\n",
       "max    205.000000   78.500000   70.500000   79.000000   15.000000"
      ]
     },
     "execution_count": 4,
     "metadata": {},
     "output_type": "execute_result"
    }
   ],
   "source": [
    "df.describe()"
   ]
  },
  {
   "cell_type": "code",
   "execution_count": 5,
   "id": "c361857a-6944-43fc-84d9-cec0828dc450",
   "metadata": {},
   "outputs": [],
   "source": [
    "cols = ['Height', 'Father', 'Mother']\n",
    "df[cols] = round(df[cols] * 2.54)"
   ]
  },
  {
   "cell_type": "code",
   "execution_count": 6,
   "id": "80413eff-7918-44f9-a79c-408990e79cdc",
   "metadata": {},
   "outputs": [
    {
     "data": {
      "text/html": [
       "<div>\n",
       "<style scoped>\n",
       "    .dataframe tbody tr th:only-of-type {\n",
       "        vertical-align: middle;\n",
       "    }\n",
       "\n",
       "    .dataframe tbody tr th {\n",
       "        vertical-align: top;\n",
       "    }\n",
       "\n",
       "    .dataframe thead th {\n",
       "        text-align: right;\n",
       "    }\n",
       "</style>\n",
       "<table border=\"1\" class=\"dataframe\">\n",
       "  <thead>\n",
       "    <tr style=\"text-align: right;\">\n",
       "      <th></th>\n",
       "      <th>Family</th>\n",
       "      <th>Father</th>\n",
       "      <th>Mother</th>\n",
       "      <th>Gender</th>\n",
       "      <th>Height</th>\n",
       "      <th>Kids</th>\n",
       "    </tr>\n",
       "  </thead>\n",
       "  <tbody>\n",
       "    <tr>\n",
       "      <th>0</th>\n",
       "      <td>1</td>\n",
       "      <td>199.0</td>\n",
       "      <td>170.0</td>\n",
       "      <td>M</td>\n",
       "      <td>186.0</td>\n",
       "      <td>4</td>\n",
       "    </tr>\n",
       "    <tr>\n",
       "      <th>1</th>\n",
       "      <td>1</td>\n",
       "      <td>199.0</td>\n",
       "      <td>170.0</td>\n",
       "      <td>F</td>\n",
       "      <td>176.0</td>\n",
       "      <td>4</td>\n",
       "    </tr>\n",
       "    <tr>\n",
       "      <th>2</th>\n",
       "      <td>1</td>\n",
       "      <td>199.0</td>\n",
       "      <td>170.0</td>\n",
       "      <td>F</td>\n",
       "      <td>175.0</td>\n",
       "      <td>4</td>\n",
       "    </tr>\n",
       "    <tr>\n",
       "      <th>3</th>\n",
       "      <td>1</td>\n",
       "      <td>199.0</td>\n",
       "      <td>170.0</td>\n",
       "      <td>F</td>\n",
       "      <td>175.0</td>\n",
       "      <td>4</td>\n",
       "    </tr>\n",
       "    <tr>\n",
       "      <th>4</th>\n",
       "      <td>2</td>\n",
       "      <td>192.0</td>\n",
       "      <td>169.0</td>\n",
       "      <td>M</td>\n",
       "      <td>187.0</td>\n",
       "      <td>4</td>\n",
       "    </tr>\n",
       "    <tr>\n",
       "      <th>...</th>\n",
       "      <td>...</td>\n",
       "      <td>...</td>\n",
       "      <td>...</td>\n",
       "      <td>...</td>\n",
       "      <td>...</td>\n",
       "      <td>...</td>\n",
       "    </tr>\n",
       "    <tr>\n",
       "      <th>893</th>\n",
       "      <td>205</td>\n",
       "      <td>174.0</td>\n",
       "      <td>165.0</td>\n",
       "      <td>M</td>\n",
       "      <td>174.0</td>\n",
       "      <td>8</td>\n",
       "    </tr>\n",
       "    <tr>\n",
       "      <th>894</th>\n",
       "      <td>205</td>\n",
       "      <td>174.0</td>\n",
       "      <td>165.0</td>\n",
       "      <td>M</td>\n",
       "      <td>172.0</td>\n",
       "      <td>8</td>\n",
       "    </tr>\n",
       "    <tr>\n",
       "      <th>895</th>\n",
       "      <td>205</td>\n",
       "      <td>174.0</td>\n",
       "      <td>165.0</td>\n",
       "      <td>F</td>\n",
       "      <td>163.0</td>\n",
       "      <td>8</td>\n",
       "    </tr>\n",
       "    <tr>\n",
       "      <th>896</th>\n",
       "      <td>205</td>\n",
       "      <td>174.0</td>\n",
       "      <td>165.0</td>\n",
       "      <td>F</td>\n",
       "      <td>161.0</td>\n",
       "      <td>8</td>\n",
       "    </tr>\n",
       "    <tr>\n",
       "      <th>897</th>\n",
       "      <td>205</td>\n",
       "      <td>174.0</td>\n",
       "      <td>165.0</td>\n",
       "      <td>F</td>\n",
       "      <td>160.0</td>\n",
       "      <td>8</td>\n",
       "    </tr>\n",
       "  </tbody>\n",
       "</table>\n",
       "<p>898 rows × 6 columns</p>\n",
       "</div>"
      ],
      "text/plain": [
       "     Family  Father  Mother Gender  Height  Kids\n",
       "0         1   199.0   170.0      M   186.0     4\n",
       "1         1   199.0   170.0      F   176.0     4\n",
       "2         1   199.0   170.0      F   175.0     4\n",
       "3         1   199.0   170.0      F   175.0     4\n",
       "4         2   192.0   169.0      M   187.0     4\n",
       "..      ...     ...     ...    ...     ...   ...\n",
       "893     205   174.0   165.0      M   174.0     8\n",
       "894     205   174.0   165.0      M   172.0     8\n",
       "895     205   174.0   165.0      F   163.0     8\n",
       "896     205   174.0   165.0      F   161.0     8\n",
       "897     205   174.0   165.0      F   160.0     8\n",
       "\n",
       "[898 rows x 6 columns]"
      ]
     },
     "execution_count": 6,
     "metadata": {},
     "output_type": "execute_result"
    }
   ],
   "source": [
    "df"
   ]
  },
  {
   "cell_type": "markdown",
   "id": "de4cf9ce-837a-4fd6-b219-0168f9307697",
   "metadata": {},
   "source": [
    "## Missing values"
   ]
  },
  {
   "cell_type": "code",
   "execution_count": 7,
   "id": "b142f9e8-1e9f-4f6f-b83b-b0332a5cd47a",
   "metadata": {},
   "outputs": [
    {
     "data": {
      "text/plain": [
       "np.int64(0)"
      ]
     },
     "execution_count": 7,
     "metadata": {},
     "output_type": "execute_result"
    }
   ],
   "source": [
    "df.isnull().sum().sum()"
   ]
  },
  {
   "cell_type": "markdown",
   "id": "530c4d92-8b97-4aa7-b4cd-01c8eff96733",
   "metadata": {},
   "source": [
    "## Density"
   ]
  },
  {
   "cell_type": "code",
   "execution_count": 8,
   "id": "cdded633-9511-479f-b69d-a43bf3fad33f",
   "metadata": {},
   "outputs": [],
   "source": [
    "Father = df[\"Father\"]\n",
    "Mother = df[\"Mother\"]"
   ]
  },
  {
   "cell_type": "code",
   "execution_count": 9,
   "id": "320937f4-928f-423b-992e-f9c63dd0397e",
   "metadata": {},
   "outputs": [
    {
     "data": {
      "image/png": "[encoded data removed]",
      "text/plain": [
       "<Figure size 640x480 with 1 Axes>"
      ]
     },
     "metadata": {},
     "output_type": "display_data"
    }
   ],
   "source": [
    "plt.figure()\n",
    "sns.kdeplot(Father, fill=True, label = \"Father\")\n",
    "sns.kdeplot(Mother, fill = True, label = \"Mother\")\n",
    "plt.legend()\n",
    "plt.show()"
   ]
  },
  {
   "cell_type": "markdown",
   "id": "182f92be-3d09-43cc-b2d9-3e8646b5dc42",
   "metadata": {},
   "source": [
    "## Scatter Plot"
   ]
  },
  {
   "cell_type": "code",
   "execution_count": 10,
   "id": "de324760-3ddb-4949-959a-6a774aa2c1d8",
   "metadata": {},
   "outputs": [
    {
     "data": {
      "image/png": "[encoded data removed]",
      "text/plain": [
       "<Figure size 640x480 with 1 Axes>"
      ]
     },
     "metadata": {},
     "output_type": "display_data"
    }
   ],
   "source": [
    "plt.figure()\n",
    "sns.regplot(data = df, x = \"Father\", y = \"Mother\", ci = None)\n",
    "plt.show()"
   ]
  },
  {
   "cell_type": "markdown",
   "id": "0604829e-2e37-4e0e-b98e-b046363de2c2",
   "metadata": {},
   "source": [
    "## Number of children by familly"
   ]
  },
  {
   "cell_type": "code",
   "execution_count": 11,
   "id": "95d4e2b8-f96d-4514-922b-32decc00304d",
   "metadata": {},
   "outputs": [
    {
     "name": "stdout",
     "output_type": "stream",
     "text": [
      "Family\n",
      "1      4\n",
      "2      4\n",
      "3      2\n",
      "4      5\n",
      "5      6\n",
      "      ..\n",
      "200    1\n",
      "201    2\n",
      "203    3\n",
      "204    2\n",
      "205    8\n",
      "Name: Family, Length: 197, dtype: int64\n"
     ]
    }
   ],
   "source": [
    "df_group = df.groupby('Family')['Family'].count()\n",
    "#df_group = df_group.sort_values(ascending=False)\n",
    "print(df_group)"
   ]
  },
  {
   "cell_type": "code",
   "execution_count": 12,
   "id": "13364307-30d5-4c6c-980d-e495217426d7",
   "metadata": {},
   "outputs": [
    {
     "data": {
      "text/plain": [
       "np.int64(5)"
      ]
     },
     "execution_count": 12,
     "metadata": {},
     "output_type": "execute_result"
    }
   ],
   "source": [
    "df_group[4]"
   ]
  },
  {
   "cell_type": "code",
   "execution_count": 13,
   "id": "192dab30-6a7e-46a3-8ffc-c9c496a6629f",
   "metadata": {},
   "outputs": [
    {
     "data": {
      "text/plain": [
       "<Axes: xlabel='Family', ylabel='Count'>"
      ]
     },
     "execution_count": 13,
     "metadata": {},
     "output_type": "execute_result"
    },
    {
     "data": {
      "image/png": "[encoded data removed]",
      "text/plain": [
       "<Figure size 640x480 with 1 Axes>"
      ]
     },
     "metadata": {},
     "output_type": "display_data"
    }
   ],
   "source": [
    "plt.figure()\n",
    "sns.histplot(df_group)"
   ]
  },
  {
   "cell_type": "markdown",
   "id": "43418564-a979-4a50-a868-efe49d62fcf9",
   "metadata": {},
   "source": [
    "## Create variable : MidParents"
   ]
  },
  {
   "cell_type": "code",
   "execution_count": 14,
   "id": "d515d760-42f0-4b76-a8af-1e47b495d6c4",
   "metadata": {},
   "outputs": [],
   "source": [
    "df[\"MidParents\"] = (df[\"Father\"] + 1.08 * df[\"Mother\"]) / 2"
   ]
  },
  {
   "cell_type": "code",
   "execution_count": 15,
   "id": "510acf85-723a-4895-b245-18ec7b676a8f",
   "metadata": {},
   "outputs": [
    {
     "data": {
      "text/html": [
       "<div>\n",
       "<style scoped>\n",
       "    .dataframe tbody tr th:only-of-type {\n",
       "        vertical-align: middle;\n",
       "    }\n",
       "\n",
       "    .dataframe tbody tr th {\n",
       "        vertical-align: top;\n",
       "    }\n",
       "\n",
       "    .dataframe thead th {\n",
       "        text-align: right;\n",
       "    }\n",
       "</style>\n",
       "<table border=\"1\" class=\"dataframe\">\n",
       "  <thead>\n",
       "    <tr style=\"text-align: right;\">\n",
       "      <th></th>\n",
       "      <th>Family</th>\n",
       "      <th>Father</th>\n",
       "      <th>Mother</th>\n",
       "      <th>Gender</th>\n",
       "      <th>Height</th>\n",
       "      <th>Kids</th>\n",
       "      <th>MidParents</th>\n",
       "    </tr>\n",
       "  </thead>\n",
       "  <tbody>\n",
       "    <tr>\n",
       "      <th>0</th>\n",
       "      <td>1</td>\n",
       "      <td>199.0</td>\n",
       "      <td>170.0</td>\n",
       "      <td>M</td>\n",
       "      <td>186.0</td>\n",
       "      <td>4</td>\n",
       "      <td>191.30</td>\n",
       "    </tr>\n",
       "    <tr>\n",
       "      <th>1</th>\n",
       "      <td>1</td>\n",
       "      <td>199.0</td>\n",
       "      <td>170.0</td>\n",
       "      <td>F</td>\n",
       "      <td>176.0</td>\n",
       "      <td>4</td>\n",
       "      <td>191.30</td>\n",
       "    </tr>\n",
       "    <tr>\n",
       "      <th>2</th>\n",
       "      <td>1</td>\n",
       "      <td>199.0</td>\n",
       "      <td>170.0</td>\n",
       "      <td>F</td>\n",
       "      <td>175.0</td>\n",
       "      <td>4</td>\n",
       "      <td>191.30</td>\n",
       "    </tr>\n",
       "    <tr>\n",
       "      <th>3</th>\n",
       "      <td>1</td>\n",
       "      <td>199.0</td>\n",
       "      <td>170.0</td>\n",
       "      <td>F</td>\n",
       "      <td>175.0</td>\n",
       "      <td>4</td>\n",
       "      <td>191.30</td>\n",
       "    </tr>\n",
       "    <tr>\n",
       "      <th>4</th>\n",
       "      <td>2</td>\n",
       "      <td>192.0</td>\n",
       "      <td>169.0</td>\n",
       "      <td>M</td>\n",
       "      <td>187.0</td>\n",
       "      <td>4</td>\n",
       "      <td>187.26</td>\n",
       "    </tr>\n",
       "    <tr>\n",
       "      <th>...</th>\n",
       "      <td>...</td>\n",
       "      <td>...</td>\n",
       "      <td>...</td>\n",
       "      <td>...</td>\n",
       "      <td>...</td>\n",
       "      <td>...</td>\n",
       "      <td>...</td>\n",
       "    </tr>\n",
       "    <tr>\n",
       "      <th>893</th>\n",
       "      <td>205</td>\n",
       "      <td>174.0</td>\n",
       "      <td>165.0</td>\n",
       "      <td>M</td>\n",
       "      <td>174.0</td>\n",
       "      <td>8</td>\n",
       "      <td>176.10</td>\n",
       "    </tr>\n",
       "    <tr>\n",
       "      <th>894</th>\n",
       "      <td>205</td>\n",
       "      <td>174.0</td>\n",
       "      <td>165.0</td>\n",
       "      <td>M</td>\n",
       "      <td>172.0</td>\n",
       "      <td>8</td>\n",
       "      <td>176.10</td>\n",
       "    </tr>\n",
       "    <tr>\n",
       "      <th>895</th>\n",
       "      <td>205</td>\n",
       "      <td>174.0</td>\n",
       "      <td>165.0</td>\n",
       "      <td>F</td>\n",
       "      <td>163.0</td>\n",
       "      <td>8</td>\n",
       "      <td>176.10</td>\n",
       "    </tr>\n",
       "    <tr>\n",
       "      <th>896</th>\n",
       "      <td>205</td>\n",
       "      <td>174.0</td>\n",
       "      <td>165.0</td>\n",
       "      <td>F</td>\n",
       "      <td>161.0</td>\n",
       "      <td>8</td>\n",
       "      <td>176.10</td>\n",
       "    </tr>\n",
       "    <tr>\n",
       "      <th>897</th>\n",
       "      <td>205</td>\n",
       "      <td>174.0</td>\n",
       "      <td>165.0</td>\n",
       "      <td>F</td>\n",
       "      <td>160.0</td>\n",
       "      <td>8</td>\n",
       "      <td>176.10</td>\n",
       "    </tr>\n",
       "  </tbody>\n",
       "</table>\n",
       "<p>898 rows × 7 columns</p>\n",
       "</div>"
      ],
      "text/plain": [
       "     Family  Father  Mother Gender  Height  Kids  MidParents\n",
       "0         1   199.0   170.0      M   186.0     4      191.30\n",
       "1         1   199.0   170.0      F   176.0     4      191.30\n",
       "2         1   199.0   170.0      F   175.0     4      191.30\n",
       "3         1   199.0   170.0      F   175.0     4      191.30\n",
       "4         2   192.0   169.0      M   187.0     4      187.26\n",
       "..      ...     ...     ...    ...     ...   ...         ...\n",
       "893     205   174.0   165.0      M   174.0     8      176.10\n",
       "894     205   174.0   165.0      M   172.0     8      176.10\n",
       "895     205   174.0   165.0      F   163.0     8      176.10\n",
       "896     205   174.0   165.0      F   161.0     8      176.10\n",
       "897     205   174.0   165.0      F   160.0     8      176.10\n",
       "\n",
       "[898 rows x 7 columns]"
      ]
     },
     "execution_count": 15,
     "metadata": {},
     "output_type": "execute_result"
    }
   ],
   "source": [
    "df"
   ]
  },
  {
   "cell_type": "markdown",
   "id": "d2adfbbb-a40a-469f-a917-6998214bf085",
   "metadata": {},
   "source": [
    "## Estimate regression"
   ]
  },
  {
   "cell_type": "code",
   "execution_count": 34,
   "id": "f21ae8e7-d06c-4c5d-b415-6c12cb782273",
   "metadata": {},
   "outputs": [],
   "source": [
    "X = df[[\"MidParents\"]]\n",
    "Y = df[[\"Height\"]]\n",
    "reg = LinearRegression().fit(X, Y)"
   ]
  },
  {
   "cell_type": "code",
   "execution_count": 35,
   "id": "19316b93-b046-4ef7-8881-027c526cf368",
   "metadata": {},
   "outputs": [
    {
     "name": "stdout",
     "output_type": "stream",
     "text": [
      "0.10223850416211366\n",
      "[[0.63309377]]\n",
      "[58.25591659]\n",
      "[[179.36675415]\n",
      " [179.36675415]\n",
      " [179.36675415]\n",
      " [179.36675415]\n",
      " [176.80905533]]\n"
     ]
    }
   ],
   "source": [
    "print(reg.score(X, Y))\n",
    "print(reg.coef_)\n",
    "print(reg.intercept_)\n",
    "Y_pred = reg.predict(X)\n",
    "print(Y_pred[:5])"
   ]
  },
  {
   "cell_type": "code",
   "execution_count": 36,
   "id": "baac0286-2c52-4f98-9eec-9c1a7f2e074e",
   "metadata": {},
   "outputs": [
    {
     "name": "stdout",
     "output_type": "stream",
     "text": [
      "     MidParents\n",
      "0        191.30\n",
      "1        191.30\n",
      "2        191.30\n",
      "3        191.30\n",
      "4        187.26\n",
      "..          ...\n",
      "893      176.10\n",
      "894      176.10\n",
      "895      176.10\n",
      "896      176.10\n",
      "897      176.10\n",
      "\n",
      "[898 rows x 1 columns]      Height\n",
      "0     186.0\n",
      "1     176.0\n",
      "2     175.0\n",
      "3     175.0\n",
      "4     187.0\n",
      "..      ...\n",
      "893   174.0\n",
      "894   172.0\n",
      "895   163.0\n",
      "896   161.0\n",
      "897   160.0\n",
      "\n",
      "[898 rows x 1 columns]\n"
     ]
    }
   ],
   "source": [
    "print(X,Y)"
   ]
  },
  {
   "cell_type": "code",
   "execution_count": 37,
   "id": "cdcdb6d8-f84e-47ff-9c74-1f9072d22613",
   "metadata": {},
   "outputs": [
    {
     "data": {
      "text/plain": [
       "array([[21.16476803, 13.39928271],\n",
       "       [13.39928271, 82.9726768 ]])"
      ]
     },
     "execution_count": 37,
     "metadata": {},
     "output_type": "execute_result"
    }
   ],
   "source": [
    "# Verify formula\n",
    "X = df[\"MidParents\"]\n",
    "Y = df[\"Height\"]\n",
    "np.cov(X,Y)"
   ]
  },
  {
   "cell_type": "code",
   "execution_count": 38,
   "id": "e1e275ce-e090-4636-9bae-3c0f669d6391",
   "metadata": {},
   "outputs": [
    {
     "data": {
      "text/plain": [
       "2"
      ]
     },
     "execution_count": 38,
     "metadata": {},
     "output_type": "execute_result"
    }
   ],
   "source": [
    "np.cov(X,Y).ndim"
   ]
  },
  {
   "cell_type": "code",
   "execution_count": 39,
   "id": "569e4a33-afd4-48d6-bdbb-2c9c13a55f35",
   "metadata": {},
   "outputs": [],
   "source": [
    "cov_X_Y = np.cov(X,Y)[0,1]\n",
    "var_X = np.var(X)"
   ]
  },
  {
   "cell_type": "code",
   "execution_count": 40,
   "id": "46ac4704-28a8-47fe-8c76-7a0f90c86ab2",
   "metadata": {},
   "outputs": [
    {
     "name": "stdout",
     "output_type": "stream",
     "text": [
      "0.6337995568152224 [[0.63309377]]\n",
      "[[False]]\n"
     ]
    }
   ],
   "source": [
    "Teta_1_chapeau = cov_X_Y / var_X\n",
    "print(Teta_1_chapeau, reg.coef_)\n",
    "print(np.isclose(Teta_1_chapeau, reg.coef_))"
   ]
  },
  {
   "cell_type": "code",
   "execution_count": 41,
   "id": "99b77d94-656a-48ed-8293-8f31f72f6215",
   "metadata": {},
   "outputs": [
    {
     "name": "stdout",
     "output_type": "stream",
     "text": [
      "58.13182417043754 [58.25591659]\n",
      "[False]\n"
     ]
    }
   ],
   "source": [
    "Teta_0_chapeau = np.mean(Y) - Teta_1_chapeau * np.mean(X)\n",
    "print(Teta_0_chapeau, reg.intercept_)\n",
    "print(np.isclose(Teta_0_chapeau, reg.intercept_))"
   ]
  },
  {
   "cell_type": "code",
   "execution_count": 42,
   "id": "7b51f6b7-b97a-469f-a7f6-d8ace21dee73",
   "metadata": {},
   "outputs": [],
   "source": [
    "X = df[[\"MidParents\"]]\n",
    "Y = df[[\"Height\"]]\n",
    "reg = LinearRegression().fit(X, Y)"
   ]
  },
  {
   "cell_type": "markdown",
   "id": "ab21098f-4702-4359-b15e-afb8a0eb670b",
   "metadata": {},
   "source": [
    "We can see that the resultats are proch but not enough close. It is due to the method of calcul"
   ]
  },
  {
   "cell_type": "markdown",
   "id": "b510446a-77fc-4ed2-a768-7cece7b25025",
   "metadata": {},
   "source": [
    "## Analyzing prediction "
   ]
  },
  {
   "cell_type": "code",
   "execution_count": 43,
   "id": "edac41e5-4441-4781-8b58-701c0eafef10",
   "metadata": {},
   "outputs": [],
   "source": [
    "# 2 dimension to 1 dimension numpy\n",
    "Y_pred = Y_pred.flatten()"
   ]
  },
  {
   "cell_type": "code",
   "execution_count": 44,
   "id": "d8fdca79-bbc5-4c78-8398-c1aab9992536",
   "metadata": {},
   "outputs": [],
   "source": [
    "Y_pred = pd.Series(Y_pred)\n",
    "Y_pred.name = \"Height\"\n",
    "Y_pred = Y_pred.to_frame()"
   ]
  },
  {
   "cell_type": "code",
   "execution_count": 45,
   "id": "16b5b069-6a7c-42b1-b13e-bacb6295b4c6",
   "metadata": {},
   "outputs": [
    {
     "data": {
      "text/plain": [
       "(         Height\n",
       " 0    179.366754\n",
       " 1    179.366754\n",
       " 2    179.366754\n",
       " 3    179.366754\n",
       " 4    176.809055\n",
       " ..          ...\n",
       " 893  169.743729\n",
       " 894  169.743729\n",
       " 895  169.743729\n",
       " 896  169.743729\n",
       " 897  169.743729\n",
       " \n",
       " [898 rows x 1 columns],\n",
       "      Height\n",
       " 0     186.0\n",
       " 1     176.0\n",
       " 2     175.0\n",
       " 3     175.0\n",
       " 4     187.0\n",
       " ..      ...\n",
       " 893   174.0\n",
       " 894   172.0\n",
       " 895   163.0\n",
       " 896   161.0\n",
       " 897   160.0\n",
       " \n",
       " [898 rows x 1 columns])"
      ]
     },
     "execution_count": 45,
     "metadata": {},
     "output_type": "execute_result"
    }
   ],
   "source": [
    "Y_pred, Y"
   ]
  },
  {
   "cell_type": "code",
   "execution_count": 46,
   "id": "3387403a-fd88-4e66-8c31-1b6aba8b7ce7",
   "metadata": {},
   "outputs": [
    {
     "data": {
      "image/png": "[encoded data removed]",
      "text/plain": [
       "<Figure size 640x480 with 1 Axes>"
      ]
     },
     "metadata": {},
     "output_type": "display_data"
    }
   ],
   "source": [
    "plt.figure()\n",
    "sns.histplot(Y[\"Height\"].values, label=\"origin\", color=\"black\")\n",
    "sns.histplot(Y_pred[\"Height\"].values, label=\"prediction\", color=\"green\")\n",
    "plt.legend()\n",
    "plt.show()"
   ]
  },
  {
   "cell_type": "code",
   "execution_count": 47,
   "id": "18cfdf16-55e9-425a-9e56-17dfe3c800b9",
   "metadata": {},
   "outputs": [],
   "source": [
    "df[\"Height_pred\"] = Y_pred"
   ]
  },
  {
   "cell_type": "code",
   "execution_count": 48,
   "id": "ca49f3ee-1227-4c3a-93ab-9f560d3fc641",
   "metadata": {},
   "outputs": [],
   "source": [
    "df_male = df[df[\"Gender\"] == 'M'].copy()\n",
    "df_female = df[df[\"Gender\"] == 'F'].copy()"
   ]
  },
  {
   "cell_type": "code",
   "execution_count": 49,
   "id": "57188dad-cd50-4cb1-b449-56f09f336cb1",
   "metadata": {},
   "outputs": [
    {
     "data": {
      "text/plain": [
       "<matplotlib.legend.Legend at 0x27b9bc0cf40>"
      ]
     },
     "execution_count": 49,
     "metadata": {},
     "output_type": "execute_result"
    },
    {
     "data": {
      "image/png": "[encoded data removed]",
      "text/plain": [
       "<Figure size 640x480 with 1 Axes>"
      ]
     },
     "metadata": {},
     "output_type": "display_data"
    }
   ],
   "source": [
    "plt.figure()\n",
    "sns.scatterplot(df_male, x = \"MidParents\" , y = \"Height\", label = \"Male\")\n",
    "sns.scatterplot(df_female, x = \"MidParents\" , y = \"Height\", label = \"Female\")\n",
    "plt.plot(X, Y_pred, label = 'OLS prediction', c = 'k')\n",
    "plt.legend()"
   ]
  },
  {
   "cell_type": "markdown",
   "id": "48151eeb-a4c8-41d3-8214-752ca6ab0169",
   "metadata": {},
   "source": [
    "# Estimateur de la densité des résidus"
   ]
  },
  {
   "cell_type": "code",
   "execution_count": 71,
   "id": "46ad3e64-8baa-46af-8198-294a74a3e1fa",
   "metadata": {},
   "outputs": [],
   "source": [
    "male = df[\"Gender\"] == \"M\"\n",
    "female = df[\"Gender\"] == \"F\""
   ]
  },
  {
   "cell_type": "code",
   "execution_count": 72,
   "id": "925dba32-7ac9-4f1c-b651-8901e93ced3a",
   "metadata": {},
   "outputs": [],
   "source": [
    "nb_f = len(df_female)\n",
    "nb_m = len(df_male)\n",
    "alpha_f = nb_f / (nb_f + nb_m)\n",
    "alpha_m = nb_m / (nb_f + nb_m)\n",
    "residual = Y - Y_pred"
   ]
  },
  {
   "cell_type": "code",
   "execution_count": 73,
   "id": "4cc961bc-29d5-4495-87fa-ccc529bc8e8d",
   "metadata": {},
   "outputs": [],
   "source": [
    "residual_male = df[\"Height\"] - df[\"Height_pred\"]\n",
    "residual_female = df[\"Height\"] - df[\"Height_pred\"]"
   ]
  },
  {
   "cell_type": "code",
   "execution_count": 79,
   "id": "32b2e4d6-5ef9-4a2e-a45d-b51bd04e1a8e",
   "metadata": {},
   "outputs": [
    {
     "data": {
      "image/png": "[encoded data removed]",
      "text/plain": [
       "<Figure size 640x480 with 1 Axes>"
      ]
     },
     "metadata": {},
     "output_type": "display_data"
    }
   ],
   "source": [
    "plt.figure()\n",
    "\n",
    "x_grid = np.linspace(-40, 30, num = 300)\n",
    "plt.title('Residual Histogram/ KDE')\n",
    "plt.xlabel('Residual value')\n",
    "plt.ylabel('Frequency')\n",
    "\n",
    "kde_residual = KDEUnivariate(residual)\n",
    "kde_residual.fit(kernel = 'gau')\n",
    "pdf_est_residual = kde_residual.evaluate(x_grid)\n",
    "plt.plot()\n",
    "plt.fill_between(x_grid, pdf_est_residual, alpha = 0.1, label = 'All')\n",
    "\n",
    "kde_residual_m = KDEUnivariate(residual[male])\n",
    "kde_residual_m.fit(kernel = 'gau')\n",
    "pdf_est_residual_m = kde_residual_m.evaluate(x_grid)\n",
    "plt.fill_between(x_grid, alpha_m * pdf_est_residual_m, alpha = 0.5, label = 'Male')\n",
    "\n",
    "kde_residual_f = KDEUnivariate(residual[female])\n",
    "kde_residual_f.fit(kernel = 'gau')\n",
    "pdf_est_residual_f = kde_residual_f.evaluate(x_grid)\n",
    "plt.fill_between(x_grid, alpha_f * pdf_est_residual_f, alpha = 0.5, label = 'Female')\n",
    "\n",
    "plt.legend()\n",
    "plt.show()"
   ]
  },
  {
   "cell_type": "markdown",
   "id": "cfd383f1-b646-4710-a10d-8c5dce926fb4",
   "metadata": {},
   "source": [
    "We plotted the Probability Density Function (PDF) of the residuals for the entire dataset, as well as separately by gender. While the residuals appear to be approximately normally distributed within each gender group, the overall distribution of all residuals does not follow a normal pattern."
   ]
  },
  {
   "cell_type": "markdown",
   "id": "0e9cbafd-81a2-446a-aaec-1eb9da437878",
   "metadata": {},
   "source": [
    "## "
   ]
  }
 ],
 "metadata": {
  "kernelspec": {
   "display_name": "Python (portofolio)",
   "language": "python",
   "name": "portofolio"
  },
  "language_info": {
   "codemirror_mode": {
    "name": "ipython",
    "version": 3
   },
   "file_extension": ".py",
   "mimetype": "text/x-python",
   "name": "python",
   "nbconvert_exporter": "python",
   "pygments_lexer": "ipython3",
   "version": "3.9.21"
  }
 },
 "nbformat": 4,
 "nbformat_minor": 5
}
